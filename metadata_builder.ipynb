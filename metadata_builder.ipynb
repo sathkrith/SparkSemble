{
 "cells": [
  {
   "cell_type": "code",
   "execution_count": 2,
   "metadata": {},
   "outputs": [],
   "source": [
    "import seaborn as sns\n",
    "import pandas as pd"
   ]
  },
  {
   "cell_type": "markdown",
   "metadata": {},
   "source": [
    "visualize a sample of data"
   ]
  },
  {
   "cell_type": "code",
   "execution_count": 1,
   "metadata": {},
   "outputs": [],
   "source": [
    "# Read data\n",
    "split_data = None\n",
    "with open(\"input/train.txt\") as f:\n",
    "    data = f.readlines()\n",
    "    split_data = [x.split(\" \") for x in data]\n"
   ]
  },
  {
   "cell_type": "code",
   "execution_count": 4,
   "metadata": {},
   "outputs": [
    {
     "ename": "KeyError",
     "evalue": "\"['137'] not found in axis\"",
     "output_type": "error",
     "traceback": [
      "\u001b[1;31m---------------------------------------------------------------------------\u001b[0m",
      "\u001b[1;31mKeyError\u001b[0m                                  Traceback (most recent call last)",
      "Cell \u001b[1;32mIn[4], line 3\u001b[0m\n\u001b[0;32m      1\u001b[0m column_names \u001b[38;5;241m=\u001b[39m [\u001b[38;5;124m\"\u001b[39m\u001b[38;5;124mtarget\u001b[39m\u001b[38;5;124m\"\u001b[39m, \u001b[38;5;124m\"\u001b[39m\u001b[38;5;124mqid\u001b[39m\u001b[38;5;124m\"\u001b[39m] \u001b[38;5;241m+\u001b[39m [\u001b[38;5;124mf\u001b[39m\u001b[38;5;124m\"\u001b[39m\u001b[38;5;124mfeature_\u001b[39m\u001b[38;5;132;01m{\u001b[39;00mi\u001b[38;5;132;01m}\u001b[39;00m\u001b[38;5;124m\"\u001b[39m \u001b[38;5;28;01mfor\u001b[39;00m i \u001b[38;5;129;01min\u001b[39;00m \u001b[38;5;28mrange\u001b[39m(\u001b[38;5;241m1\u001b[39m, \u001b[38;5;241m138\u001b[39m)]\n\u001b[0;32m      2\u001b[0m df \u001b[38;5;241m=\u001b[39m pd\u001b[38;5;241m.\u001b[39mDataFrame(split_data, columns\u001b[38;5;241m=\u001b[39mcolumn_names)\n\u001b[1;32m----> 3\u001b[0m \u001b[43mdf\u001b[49m\u001b[38;5;241;43m.\u001b[39;49m\u001b[43mdrop\u001b[49m\u001b[43m(\u001b[49m\u001b[43mcolumns\u001b[49m\u001b[38;5;241;43m=\u001b[39;49m\u001b[43m[\u001b[49m\u001b[38;5;124;43m\"\u001b[39;49m\u001b[38;5;124;43m137\u001b[39;49m\u001b[38;5;124;43m\"\u001b[39;49m\u001b[43m]\u001b[49m\u001b[43m,\u001b[49m\u001b[43m \u001b[49m\u001b[43minplace\u001b[49m\u001b[38;5;241;43m=\u001b[39;49m\u001b[38;5;28;43;01mTrue\u001b[39;49;00m\u001b[43m)\u001b[49m\n",
      "File \u001b[1;32m~\\AppData\\Roaming\\Python\\Python312\\site-packages\\pandas\\core\\frame.py:5568\u001b[0m, in \u001b[0;36mDataFrame.drop\u001b[1;34m(self, labels, axis, index, columns, level, inplace, errors)\u001b[0m\n\u001b[0;32m   5420\u001b[0m \u001b[38;5;28;01mdef\u001b[39;00m \u001b[38;5;21mdrop\u001b[39m(\n\u001b[0;32m   5421\u001b[0m     \u001b[38;5;28mself\u001b[39m,\n\u001b[0;32m   5422\u001b[0m     labels: IndexLabel \u001b[38;5;241m|\u001b[39m \u001b[38;5;28;01mNone\u001b[39;00m \u001b[38;5;241m=\u001b[39m \u001b[38;5;28;01mNone\u001b[39;00m,\n\u001b[1;32m   (...)\u001b[0m\n\u001b[0;32m   5429\u001b[0m     errors: IgnoreRaise \u001b[38;5;241m=\u001b[39m \u001b[38;5;124m\"\u001b[39m\u001b[38;5;124mraise\u001b[39m\u001b[38;5;124m\"\u001b[39m,\n\u001b[0;32m   5430\u001b[0m ) \u001b[38;5;241m-\u001b[39m\u001b[38;5;241m>\u001b[39m DataFrame \u001b[38;5;241m|\u001b[39m \u001b[38;5;28;01mNone\u001b[39;00m:\n\u001b[0;32m   5431\u001b[0m \u001b[38;5;250m    \u001b[39m\u001b[38;5;124;03m\"\"\"\u001b[39;00m\n\u001b[0;32m   5432\u001b[0m \u001b[38;5;124;03m    Drop specified labels from rows or columns.\u001b[39;00m\n\u001b[0;32m   5433\u001b[0m \n\u001b[1;32m   (...)\u001b[0m\n\u001b[0;32m   5566\u001b[0m \u001b[38;5;124;03m            weight  1.0     0.8\u001b[39;00m\n\u001b[0;32m   5567\u001b[0m \u001b[38;5;124;03m    \"\"\"\u001b[39;00m\n\u001b[1;32m-> 5568\u001b[0m     \u001b[38;5;28;01mreturn\u001b[39;00m \u001b[38;5;28;43msuper\u001b[39;49m\u001b[43m(\u001b[49m\u001b[43m)\u001b[49m\u001b[38;5;241;43m.\u001b[39;49m\u001b[43mdrop\u001b[49m\u001b[43m(\u001b[49m\n\u001b[0;32m   5569\u001b[0m \u001b[43m        \u001b[49m\u001b[43mlabels\u001b[49m\u001b[38;5;241;43m=\u001b[39;49m\u001b[43mlabels\u001b[49m\u001b[43m,\u001b[49m\n\u001b[0;32m   5570\u001b[0m \u001b[43m        \u001b[49m\u001b[43maxis\u001b[49m\u001b[38;5;241;43m=\u001b[39;49m\u001b[43maxis\u001b[49m\u001b[43m,\u001b[49m\n\u001b[0;32m   5571\u001b[0m \u001b[43m        \u001b[49m\u001b[43mindex\u001b[49m\u001b[38;5;241;43m=\u001b[39;49m\u001b[43mindex\u001b[49m\u001b[43m,\u001b[49m\n\u001b[0;32m   5572\u001b[0m \u001b[43m        \u001b[49m\u001b[43mcolumns\u001b[49m\u001b[38;5;241;43m=\u001b[39;49m\u001b[43mcolumns\u001b[49m\u001b[43m,\u001b[49m\n\u001b[0;32m   5573\u001b[0m \u001b[43m        \u001b[49m\u001b[43mlevel\u001b[49m\u001b[38;5;241;43m=\u001b[39;49m\u001b[43mlevel\u001b[49m\u001b[43m,\u001b[49m\n\u001b[0;32m   5574\u001b[0m \u001b[43m        \u001b[49m\u001b[43minplace\u001b[49m\u001b[38;5;241;43m=\u001b[39;49m\u001b[43minplace\u001b[49m\u001b[43m,\u001b[49m\n\u001b[0;32m   5575\u001b[0m \u001b[43m        \u001b[49m\u001b[43merrors\u001b[49m\u001b[38;5;241;43m=\u001b[39;49m\u001b[43merrors\u001b[49m\u001b[43m,\u001b[49m\n\u001b[0;32m   5576\u001b[0m \u001b[43m    \u001b[49m\u001b[43m)\u001b[49m\n",
      "File \u001b[1;32m~\\AppData\\Roaming\\Python\\Python312\\site-packages\\pandas\\core\\generic.py:4785\u001b[0m, in \u001b[0;36mNDFrame.drop\u001b[1;34m(self, labels, axis, index, columns, level, inplace, errors)\u001b[0m\n\u001b[0;32m   4783\u001b[0m \u001b[38;5;28;01mfor\u001b[39;00m axis, labels \u001b[38;5;129;01min\u001b[39;00m axes\u001b[38;5;241m.\u001b[39mitems():\n\u001b[0;32m   4784\u001b[0m     \u001b[38;5;28;01mif\u001b[39;00m labels \u001b[38;5;129;01mis\u001b[39;00m \u001b[38;5;129;01mnot\u001b[39;00m \u001b[38;5;28;01mNone\u001b[39;00m:\n\u001b[1;32m-> 4785\u001b[0m         obj \u001b[38;5;241m=\u001b[39m \u001b[43mobj\u001b[49m\u001b[38;5;241;43m.\u001b[39;49m\u001b[43m_drop_axis\u001b[49m\u001b[43m(\u001b[49m\u001b[43mlabels\u001b[49m\u001b[43m,\u001b[49m\u001b[43m \u001b[49m\u001b[43maxis\u001b[49m\u001b[43m,\u001b[49m\u001b[43m \u001b[49m\u001b[43mlevel\u001b[49m\u001b[38;5;241;43m=\u001b[39;49m\u001b[43mlevel\u001b[49m\u001b[43m,\u001b[49m\u001b[43m \u001b[49m\u001b[43merrors\u001b[49m\u001b[38;5;241;43m=\u001b[39;49m\u001b[43merrors\u001b[49m\u001b[43m)\u001b[49m\n\u001b[0;32m   4787\u001b[0m \u001b[38;5;28;01mif\u001b[39;00m inplace:\n\u001b[0;32m   4788\u001b[0m     \u001b[38;5;28mself\u001b[39m\u001b[38;5;241m.\u001b[39m_update_inplace(obj)\n",
      "File \u001b[1;32m~\\AppData\\Roaming\\Python\\Python312\\site-packages\\pandas\\core\\generic.py:4827\u001b[0m, in \u001b[0;36mNDFrame._drop_axis\u001b[1;34m(self, labels, axis, level, errors, only_slice)\u001b[0m\n\u001b[0;32m   4825\u001b[0m         new_axis \u001b[38;5;241m=\u001b[39m axis\u001b[38;5;241m.\u001b[39mdrop(labels, level\u001b[38;5;241m=\u001b[39mlevel, errors\u001b[38;5;241m=\u001b[39merrors)\n\u001b[0;32m   4826\u001b[0m     \u001b[38;5;28;01melse\u001b[39;00m:\n\u001b[1;32m-> 4827\u001b[0m         new_axis \u001b[38;5;241m=\u001b[39m \u001b[43maxis\u001b[49m\u001b[38;5;241;43m.\u001b[39;49m\u001b[43mdrop\u001b[49m\u001b[43m(\u001b[49m\u001b[43mlabels\u001b[49m\u001b[43m,\u001b[49m\u001b[43m \u001b[49m\u001b[43merrors\u001b[49m\u001b[38;5;241;43m=\u001b[39;49m\u001b[43merrors\u001b[49m\u001b[43m)\u001b[49m\n\u001b[0;32m   4828\u001b[0m     indexer \u001b[38;5;241m=\u001b[39m axis\u001b[38;5;241m.\u001b[39mget_indexer(new_axis)\n\u001b[0;32m   4830\u001b[0m \u001b[38;5;66;03m# Case for non-unique axis\u001b[39;00m\n\u001b[0;32m   4831\u001b[0m \u001b[38;5;28;01melse\u001b[39;00m:\n",
      "File \u001b[1;32m~\\AppData\\Roaming\\Python\\Python312\\site-packages\\pandas\\core\\indexes\\base.py:7070\u001b[0m, in \u001b[0;36mIndex.drop\u001b[1;34m(self, labels, errors)\u001b[0m\n\u001b[0;32m   7068\u001b[0m \u001b[38;5;28;01mif\u001b[39;00m mask\u001b[38;5;241m.\u001b[39many():\n\u001b[0;32m   7069\u001b[0m     \u001b[38;5;28;01mif\u001b[39;00m errors \u001b[38;5;241m!=\u001b[39m \u001b[38;5;124m\"\u001b[39m\u001b[38;5;124mignore\u001b[39m\u001b[38;5;124m\"\u001b[39m:\n\u001b[1;32m-> 7070\u001b[0m         \u001b[38;5;28;01mraise\u001b[39;00m \u001b[38;5;167;01mKeyError\u001b[39;00m(\u001b[38;5;124mf\u001b[39m\u001b[38;5;124m\"\u001b[39m\u001b[38;5;132;01m{\u001b[39;00mlabels[mask]\u001b[38;5;241m.\u001b[39mtolist()\u001b[38;5;132;01m}\u001b[39;00m\u001b[38;5;124m not found in axis\u001b[39m\u001b[38;5;124m\"\u001b[39m)\n\u001b[0;32m   7071\u001b[0m     indexer \u001b[38;5;241m=\u001b[39m indexer[\u001b[38;5;241m~\u001b[39mmask]\n\u001b[0;32m   7072\u001b[0m \u001b[38;5;28;01mreturn\u001b[39;00m \u001b[38;5;28mself\u001b[39m\u001b[38;5;241m.\u001b[39mdelete(indexer)\n",
      "\u001b[1;31mKeyError\u001b[0m: \"['137'] not found in axis\""
     ]
    }
   ],
   "source": [
    "column_names = [\"target\", \"qid\"] + [f\"feature_{i}\" for i in range(1, 138)]\n",
    "df = pd.DataFrame(split_data, columns=column_names)\n"
   ]
  },
  {
   "cell_type": "code",
   "execution_count": null,
   "metadata": {},
   "outputs": [],
   "source": [
    "df.drop([\"feature_137\"], axis=1, inplace=True)\n",
    "for col in df.columns[1:]:\n",
    "    df[col] = df[col].apply(lambda x: float(x.split(\":\")[1]))\n",
    "df.head()"
   ]
  },
  {
   "cell_type": "code",
   "execution_count": 17,
   "metadata": {},
   "outputs": [
    {
     "data": {
      "text/plain": [
       "array(['2', '0', '1', '3', '4'], dtype=object)"
      ]
     },
     "execution_count": 17,
     "metadata": {},
     "output_type": "execute_result"
    }
   ],
   "source": [
    "df[\"target\"].drop_duplicates().values"
   ]
  },
  {
   "cell_type": "code",
   "execution_count": 11,
   "metadata": {},
   "outputs": [
    {
     "name": "stdout",
     "output_type": "stream",
     "text": [
      "{'feature_1': {'mean': 1.892431975140031, 'std': 1.2856512872297297, 'min': 0.0, 'max': 75.0, 'num_values': 18}, 'feature_2': {'mean': 0.20623379208528472, 'std': 0.57429012832688, 'min': 0.0, 'max': 7.0, 'num_values': 8}, 'feature_3': {'mean': 1.1653373181534175, 'std': 1.0203500615850032, 'min': 0.0, 'max': 15.0, 'num_values': 14}, 'feature_4': {'mean': 0.5527638468811686, 'std': 0.7921529907718228, 'min': 0.0, 'max': 15.0, 'num_values': 13}, 'feature_5': {'mean': 1.940140611435807, 'std': 1.2531914655038108, 'min': 0.0, 'max': 75.0, 'num_values': 18}, 'feature_6': {'mean': 0.801921089827097, 'std': 0.3421629593858406, 'min': 0.0, 'max': 1.0, 'num_values': 56}, 'feature_7': {'mean': 0.0990706748892747, 'std': 0.26823996149134927, 'min': 0.0, 'max': 1.0, 'num_values': 33}, 'feature_8': {'mean': 0.5395380012247515, 'std': 0.4222045903728392, 'min': 0.0, 'max': 1.0, 'num_values': 46}, 'feature_9': {'mean': 0.2872552014232552, 'std': 0.3961268010085482, 'min': 0.0, 'max': 1.0, 'num_values': 39}, 'feature_10': {'mean': 0.8330481680660535, 'std': 0.3127547965694277, 'min': 0.0, 'max': 1.0, 'num_values': 56}, 'feature_11': {'mean': 663.6352645518737, 'std': 779.5130789129619, 'min': 0.0, 'max': 12921.0, 'num_values': 5626}, 'feature_12': {'mean': 1.5384317650246333, 'std': 15.384782960505179, 'min': 0.0, 'max': 3233.0, 'num_values': 200}, 'feature_13': {'mean': 8.131987028138875, 'std': 49.966747711334065, 'min': 0.0, 'max': 6669.0, 'num_values': 463}, 'feature_14': {'mean': 7.917611264397052, 'std': 3.496291349317808, 'min': 2.0, 'max': 265.0, 'num_values': 97}, 'feature_15': {'mean': 681.2232946094342, 'std': 784.87363748202, 'min': 2.0, 'max': 13347.0, 'num_values': 5713}, 'feature_16': {'mean': 10.235224600587216, 'std': 5.790872373031285, 'min': -1.939777, 'max': 81.729559, 'num_values': 5619}, 'feature_17': {'mean': 20.508620226429752, 'std': 9.568761426690747, 'min': 3.725981, 'max': 513.52506, 'num_values': 5225}, 'feature_18': {'mean': 18.49517738108022, 'std': 8.819653168359453, 'min': 1.993372, 'max': 497.332786, 'num_values': 5324}, 'feature_19': {'mean': 19.813424393341556, 'std': 9.457160299587644, 'min': 2.001239, 'max': 362.456874, 'num_values': 5320}, 'feature_20': {'mean': 10.219819471832096, 'std': 5.7893134389508765, 'min': -1.944837, 'max': 81.69289, 'num_values': 5620}, 'feature_21': {'mean': 24.672425948145733, 'std': 877.7298498330229, 'min': 0.0, 'max': 338325.0, 'num_values': 666}, 'feature_22': {'mean': 0.32028912984578634, 'std': 1.3375233725082927, 'min': 0.0, 'max': 178.0, 'num_values': 80}, 'feature_23': {'mean': 1.487995775574638, 'std': 3.0583478644665085, 'min': 0.0, 'max': 862.0, 'num_values': 121}, 'feature_24': {'mean': 0.5952721270866395, 'std': 0.8957892488536372, 'min': 0.0, 'max': 52.0, 'num_values': 17}, 'feature_25': {'mean': 27.075982980652796, 'std': 877.775099875145, 'min': 0.0, 'max': 338325.0, 'num_values': 690}, 'feature_26': {'mean': 5.50051146511255, 'std': 15.878284862637138, 'min': 0.0, 'max': 4511.0, 'num_values': 263}, 'feature_27': {'mean': 0.09661023040812151, 'std': 0.5477878033474316, 'min': 0.0, 'max': 86.0, 'num_values': 42}, 'feature_28': {'mean': 0.4546523972508059, 'std': 0.867931646826172, 'min': 0.0, 'max': 315.0, 'num_values': 38}, 'feature_29': {'mean': 0.20245447960498306, 'std': 0.4282802539164895, 'min': 0.0, 'max': 15.0, 'num_values': 9}, 'feature_30': {'mean': 6.322587958175977, 'std': 16.335492543321347, 'min': 0.0, 'max': 4511.0, 'num_values': 271}, 'feature_31': {'mean': 14.633412218763304, 'std': 25.739492794790923, 'min': 0.0, 'max': 4511.0, 'num_values': 507}, 'feature_32': {'mean': 0.22498520898188032, 'std': 0.8752192001960231, 'min': 0.0, 'max': 94.0, 'num_values': 49}, 'feature_33': {'mean': 0.9464067502336151, 'std': 2.3697424577482793, 'min': 0.0, 'max': 856.0, 'num_values': 102}, 'feature_34': {'mean': 0.43857995167345853, 'std': 0.5744133752595274, 'min': 0.0, 'max': 37.0, 'num_values': 12}, 'feature_35': {'mean': 16.137929699811448, 'std': 26.46070365937911, 'min': 0.0, 'max': 4511.0, 'num_values': 529}, 'feature_36': {'mean': 9.585890872577453, 'std': 18.08982596579494, 'min': 0.0, 'max': 4511.0, 'num_values': 2076}, 'feature_37': {'mean': 0.15614141180959118, 'std': 0.6451212250101287, 'min': 0.0, 'max': 86.0, 'num_values': 190}, 'feature_38': {'mean': 0.6870883131687059, 'std': 1.2027341176619257, 'min': 0.0, 'max': 315.0, 'num_values': 255}, 'feature_39': {'mean': 0.3086702503939664, 'std': 0.44658378774657925, 'min': 0.0, 'max': 26.0, 'num_values': 70}, 'feature_40': {'mean': 10.73779085583872, 'std': 18.54298171817719, 'min': 0.0, 'max': 4511.0, 'num_values': 2136}, 'feature_41': {'mean': 102.60449527989859, 'std': 3618.2008459467816, 'min': 0.0, 'max': 2763906.25, 'num_values': 15683}, 'feature_42': {'mean': 0.09593929642306182, 'std': 3.59487923024138, 'min': 0.0, 'max': 2209.0, 'num_values': 375}, 'feature_43': {'mean': 1.114818580362228, 'std': 228.46739044098067, 'min': 0.0, 'max': 161696.888889, 'num_values': 502}, 'feature_44': {'mean': 0.06174574224784771, 'std': 0.21390199422250447, 'min': 0.0, 'max': 121.0, 'num_values': 106}, 'feature_45': {'mean': 112.04693430446275, 'std': 3756.5559384973244, 'min': 0.0, 'max': 2783892.25, 'num_values': 16387}, 'feature_46': {'mean': 0.05046309310185619, 'std': 0.15976502330149364, 'min': 0.0, 'max': 60.338346, 'num_values': 75606}, 'feature_47': {'mean': 0.0687952694577917, 'std': 0.20326243942424982, 'min': 0.0, 'max': 3.0, 'num_values': 930}, 'feature_48': {'mean': 0.22643680301405003, 'std': 0.23316898259356883, 'min': 0.0, 'max': 3.0, 'num_values': 1212}, 'feature_49': {'mean': 0.07090298008465437, 'std': 0.10103978367304303, 'min': 0.0, 'max': 1.636364, 'num_values': 262}, 'feature_50': {'mean': 0.05543100601731793, 'std': 0.15560473103783248, 'min': 0.0, 'max': 60.072655, 'num_values': 80077}, 'feature_51': {'mean': 0.01631011075016726, 'std': 0.0393922185159732, 'min': 0.0, 'max': 1.0, 'num_values': 34807}, 'feature_52': {'mean': 0.022563669766329564, 'std': 0.1071292443035387, 'min': 0.0, 'max': 1.0, 'num_values': 526}, 'feature_53': {'mean': 0.08056093843895319, 'std': 0.1378314382554664, 'min': 0.0, 'max': 1.0, 'num_values': 629}, 'feature_54': {'mean': 0.026689708897557694, 'std': 0.0592881444028309, 'min': 0.0, 'max': 0.6, 'num_values': 122}, 'feature_55': {'mean': 0.018729655699656626, 'std': 0.03299361222877756, 'min': 0.0, 'max': 0.800969, 'num_values': 37177}, 'feature_56': {'mean': 0.03367433694077511, 'std': 0.04816753668651612, 'min': 0.0, 'max': 1.0, 'num_values': 57535}, 'feature_57': {'mean': 0.052077979422514416, 'std': 0.1589215467233259, 'min': 0.0, 'max': 1.0, 'num_values': 713}, 'feature_58': {'mean': 0.15017570407457992, 'std': 0.1552015961684045, 'min': 0.0, 'max': 1.0, 'num_values': 983}, 'feature_59': {'mean': 0.054648154503934135, 'std': 0.07393953306721977, 'min': 0.0, 'max': 0.6, 'num_values': 170}, 'feature_60': {'mean': 0.03716460678423914, 'std': 0.04114348840665081, 'min': 0.0, 'max': 0.800969, 'num_values': 60160}, 'feature_61': {'mean': 0.024373093316118612, 'std': 0.040915369601012296, 'min': 0.0, 'max': 1.0, 'num_values': 55826}, 'feature_62': {'mean': 0.03589111140677787, 'std': 0.11868103511939251, 'min': 0.0, 'max': 1.0, 'num_values': 1172}, 'feature_63': {'mean': 0.11353087571950704, 'std': 0.13370366082480778, 'min': 0.0, 'max': 1.0, 'num_values': 1605}, 'feature_64': {'mean': 0.03921577488899824, 'std': 0.06032136678503155, 'min': 0.0, 'max': 0.6, 'num_values': 465}, 'feature_65': {'mean': 0.027329608213576776, 'std': 0.0340475532385568, 'min': 0.0, 'max': 0.800969, 'num_values': 59101}, 'feature_66': {'mean': 0.0002833778579841088, 'std': 0.0024648771060079054, 'min': 0.0, 'max': 0.25, 'num_values': 7289}, 'feature_67': {'mean': 0.0035840914914322675, 'std': 0.021866725861861974, 'min': 0.0, 'max': 0.25, 'num_values': 1814}, 'feature_68': {'mean': 0.0044164674722011795, 'std': 0.01557293399979974, 'min': 0.0, 'max': 0.25, 'num_values': 2338}, 'feature_69': {'mean': 0.0009259486585790673, 'std': 0.002366952684749462, 'min': 0.0, 'max': 0.09, 'num_values': 731}, 'feature_70': {'mean': 0.0002657404687785108, 'std': 0.0010995819567023966, 'min': 0.0, 'max': 0.0625, 'num_values': 7448}, 'feature_71': {'mean': 83.31880948379627, 'std': 965.2155172302654, 'min': -1388.740897, 'max': 368557.378509, 'num_values': 378218}, 'feature_72': {'mean': 2.6480304493677185, 'std': 10.525943785494912, 'min': 0.0, 'max': 1413.027182, 'num_values': 22853}, 'feature_73': {'mean': 10.998275845572092, 'std': 22.703629472725105, 'min': 0.0, 'max': 6927.854528, 'num_values': 42835}, 'feature_74': {'mean': 4.996328067571453, 'std': 7.403732851756024, 'min': 0.0, 'max': 301.683641, 'num_values': 19708}, 'feature_75': {'mean': 92.5920250258096, 'std': 941.4345154226364, 'min': -1390.351776, 'max': 358986.728374, 'num_values': 400182}, 'feature_76': {'mean': 21.922099358390522, 'std': 57.012175410626966, 'min': -718.788035, 'max': 8667.005515, 'num_values': 74147}, 'feature_77': {'mean': 0.8187134460224603, 'std': 4.571832256746393, 'min': 0.0, 'max': 695.932703, 'num_values': 5505}, 'feature_78': {'mean': 3.408744811371666, 'std': 6.638241969504529, 'min': 0.0, 'max': 2058.949308, 'num_values': 6711}, 'feature_79': {'mean': 1.8155019690107428, 'std': 4.086929874295979, 'min': 0.0, 'max': 83.650073, 'num_values': 3470}, 'feature_80': {'mean': 25.269849588018996, 'std': 60.270281599864646, 'min': -720.139889, 'max': 8674.545513, 'num_values': 79698}, 'feature_81': {'mean': 60.26343616103273, 'std': 106.82258490767451, 'min': 0.0, 'max': 25963.491963, 'num_values': 148565}, 'feature_82': {'mean': 1.9567689282151806, 'std': 7.294744003594102, 'min': 0.0, 'max': 771.111504, 'num_values': 11616}, 'feature_83': {'mean': 7.594091705951795, 'std': 18.504647547348018, 'min': 0.0, 'max': 6857.293941, 'num_values': 14185}, 'feature_84': {'mean': 3.9031116972886815, 'std': 5.310229323293534, 'min': 0.0, 'max': 218.033568, 'num_values': 7382}, 'feature_85': {'mean': 67.13826311052485, 'std': 110.80032269911584, 'min': 0.0, 'max': 26017.674936, 'num_values': 157300}, 'feature_86': {'mean': 38.843835925504386, 'std': 68.44019775220704, 'min': -281.267731, 'max': 13048.199883, 'num_values': 381354}, 'feature_87': {'mean': 1.3375946736990816, 'std': 5.401846379832078, 'min': 0.0, 'max': 706.513591, 'num_values': 25911}, 'feature_88': {'mean': 5.343388556847273, 'std': 9.648873278982636, 'min': 0.0, 'max': 2580.061807, 'num_values': 47069}, 'feature_89': {'mean': 2.7460542899703064, 'std': 4.279162837926117, 'min': 0.0, 'max': 150.84182, 'num_values': 23219}, 'feature_90': {'mean': 43.826608111582345, 'std': 71.45447233024086, 'min': -287.835816, 'max': 13075.29137, 'num_values': 403379}, 'feature_91': {'mean': 2119.0325951223595, 'std': 201389.8649502293, 'min': 0.0, 'max': 166804769.503892, 'num_values': 354797}, 'feature_92': {'mean': 6.340442222425117, 'std': 236.55670342735937, 'min': 0.0, 'max': 148653.237799, 'num_values': 24181}, 'feature_93': {'mean': 66.67977098743314, 'std': 13692.906210389256, 'min': 0.0, 'max': 10343023.179426, 'num_values': 45595}, 'feature_94': {'mean': 4.411430374541756, 'std': 14.088960412409033, 'min': 0.0, 'max': 4514.730882, 'num_values': 22178}, 'feature_95': {'mean': 2328.861337554446, 'std': 203305.18903038595, 'min': 0.0, 'max': 167505292.377452, 'num_values': 374636}, 'feature_96': {'mean': 0.6994036593255296, 'std': 0.4585176891552232, 'min': 0.0, 'max': 1.0, 'num_values': 2}, 'feature_97': {'mean': 0.06351843762613836, 'std': 0.24389327160578902, 'min': 0.0, 'max': 1.0, 'num_values': 2}, 'feature_98': {'mean': 0.3874901162822845, 'std': 0.48717743600512103, 'min': 0.0, 'max': 1.0, 'num_values': 2}, 'feature_99': {'mean': 0.19245188080927605, 'std': 0.3942262918901512, 'min': 0.0, 'max': 1.0, 'num_values': 2}, 'feature_100': {'mean': 0.7322286608461015, 'std': 0.44279805794157656, 'min': 0.0, 'max': 1.0, 'num_values': 2}, 'feature_101': {'mean': 0.7405933025965841, 'std': 0.3531714025683979, 'min': 0.0, 'max': 1.0, 'num_values': 197646}, 'feature_102': {'mean': 0.11266987332391501, 'std': 0.2908011198758398, 'min': 0.0, 'max': 1.0, 'num_values': 16851}, 'feature_103': {'mean': 0.5844537885478813, 'std': 0.4252883667802033, 'min': 0.0, 'max': 1.0, 'num_values': 34164}, 'feature_104': {'mean': 0.3275262365139091, 'std': 0.42247420852893736, 'min': 0.0, 'max': 1.0, 'num_values': 19598}, 'feature_105': {'mean': 0.7714979545888094, 'std': 0.33071806731408054, 'min': 0.0, 'max': 1.0, 'num_values': 201721}, 'feature_106': {'mean': 17.89121714915152, 'std': 12.351465548794332, 'min': -13.502947, 'max': 285.027752, 'num_values': 580729}, 'feature_107': {'mean': 1.7907786990096932, 'std': 5.025089353905214, 'min': 0.0, 'max': 65.075948, 'num_values': 52085}, 'feature_108': {'mean': 9.997321136100869, 'std': 8.831132505993416, 'min': 0.0, 'max': 84.585654, 'num_values': 159162}, 'feature_109': {'mean': 4.824531044230673, 'std': 6.783807457012389, 'min': 0.0, 'max': 72.19844, 'num_values': 75587}, 'feature_110': {'mean': 18.98559064860965, 'std': 12.300311697897092, 'min': -13.539601, 'max': 277.641596, 'num_values': 623842}, 'feature_111': {'mean': -12.211721129576231, 'std': 9.663827148304696, 'min': -160.149259, 'max': 0.0, 'num_values': 577749}, 'feature_112': {'mean': -14.043606726768425, 'std': 11.550063065396303, 'min': -141.712421, 'max': 0.0, 'num_values': 61098}, 'feature_113': {'mean': -11.991318410847482, 'std': 11.029251839191817, 'min': -146.691595, 'max': 0.0, 'num_values': 202254}, 'feature_114': {'mean': -15.486781285302149, 'std': 12.656018370136811, 'min': -162.903042, 'max': 0.0, 'num_values': 101066}, 'feature_115': {'mean': -11.763428928289823, 'std': 9.643753026188032, 'min': -160.344508, 'max': 0.0, 'num_values': 618409}, 'feature_116': {'mean': -14.609616908359277, 'std': 9.508464442703232, 'min': -157.053469, 'max': 0.0, 'num_values': 578061}, 'feature_117': {'mean': -17.786236778337933, 'std': 11.256742653305114, 'min': -138.203961, 'max': 0.0, 'num_values': 61722}, 'feature_118': {'mean': -17.402857782294184, 'std': 10.87924227128928, 'min': -143.962503, 'max': 0.0, 'num_values': 186909}, 'feature_119': {'mean': -19.33197328349544, 'std': 12.314545680762828, 'min': -161.336069, 'max': 0.0, 'num_values': 97946}, 'feature_120': {'mean': -14.283988109595912, 'std': 9.450608237679322, 'min': -157.276875, 'max': 0.0, 'num_values': 619763}, 'feature_121': {'mean': -12.075090401406113, 'std': 9.94106616498824, 'min': -163.220923, 'max': 0.0, 'num_values': 554227}, 'feature_122': {'mean': -14.921251764793787, 'std': 13.498834432696825, 'min': -169.913234, 'max': 0.705644, 'num_values': 48799}, 'feature_123': {'mean': -12.009083846776118, 'std': 13.015050710246449, 'min': -174.793032, 'max': 0.705595, 'num_values': 151480}, 'feature_124': {'mean': -16.36024750378899, 'std': 14.89994583269938, 'min': -190.997484, 'max': 0.0, 'num_values': 81165}, 'feature_125': {'mean': -11.67572894784438, 'std': 9.900890632562101, 'min': -163.438492, 'max': 0.0, 'num_values': 588318}, 'feature_126': {'mean': 2.799616262931773, 'std': 1.43771796612324, 'min': 1.0, 'max': 97.0, 'num_values': 26}, 'feature_127': {'mean': 43.2934828285956, 'std': 22.285021119853017, 'min': 4.0, 'max': 1549.0, 'num_values': 389}, 'feature_128': {'mean': 87953.88059639597, 'std': 7517010.508055027, 'min': -2083777989.0, 'max': 314131554.0, 'num_values': 22158}, 'feature_129': {'mean': 4.346108441662566, 'std': 8.999396643212568, 'min': 0.0, 'max': 178.0, 'num_values': 134}, 'feature_130': {'mean': 19624.441615566233, 'std': 22358.35551993928, 'min': 100.0, 'max': 65534.0, 'num_values': 64527}, 'feature_131': {'mean': 35977.94934698346, 'std': 21321.986438176624, 'min': 1.0, 'max': 65535.0, 'num_values': 59944}, 'feature_132': {'mean': 17.480224270540162, 'std': 30.415896445083593, 'min': 1.0, 'max': 254.0, 'num_values': 254}, 'feature_133': {'mean': 24.40081862064771, 'std': 41.2863862963291, 'min': 0.0, 'max': 254.0, 'num_values': 255}, 'feature_134': {'mean': 207.497586437604, 'std': 28301.243628449276, 'min': 0.0, 'max': 13150188.0, 'num_values': 3847}, 'feature_135': {'mean': 459.35669024013976, 'std': 19393.156049515957, 'min': 0.0, 'max': 2789632.0, 'num_values': 3356}, 'feature_136': {'mean': 18243.430242486524, 'std': 3456016.913941406, 'min': 0.0, 'max': 980000001.0, 'num_values': 62726}}\n"
     ]
    }
   ],
   "source": [
    "meta_data = {}\n",
    "for col in df.columns[2:]:\n",
    "    meta_data[col] = {\"mean\": df[col].mean(), \"std\": df[col].std(), \"min\": df[col].min(), \"max\": df[col].max(), \"num_values\": df[col].nunique()}\n",
    "print(meta_data)"
   ]
  },
  {
   "cell_type": "code",
   "execution_count": 15,
   "metadata": {},
   "outputs": [],
   "source": [
    "with open(\"input/meta_data.txt\", \"w\") as f:\n",
    "    for key, value in meta_data.items():\n",
    "        is_catagorical = \"0\" if value[\"num_values\"] > 1000 else \"1\"\n",
    "        is_oridinal = is_catagorical\n",
    "        f.write(f\"{is_catagorical},{is_oridinal},{value['num_values']},{value['min']},{value['max']}\\n\")"
   ]
  }
 ],
 "metadata": {
  "kernelspec": {
   "display_name": "Python 3",
   "language": "python",
   "name": "python3"
  },
  "language_info": {
   "codemirror_mode": {
    "name": "ipython",
    "version": 3
   },
   "file_extension": ".py",
   "mimetype": "text/x-python",
   "name": "python",
   "nbconvert_exporter": "python",
   "pygments_lexer": "ipython3",
   "version": "3.12.2"
  }
 },
 "nbformat": 4,
 "nbformat_minor": 2
}
